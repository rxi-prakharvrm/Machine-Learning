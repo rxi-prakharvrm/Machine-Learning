{
  "cells": [
    {
      "cell_type": "markdown",
      "metadata": {
        "id": "view-in-github",
        "colab_type": "text"
      },
      "source": [
        "<a href=\"https://colab.research.google.com/github/rxi-prakharvrm/Machine-Learning/blob/main/naive_bayes.ipynb\" target=\"_parent\"><img src=\"https://colab.research.google.com/assets/colab-badge.svg\" alt=\"Open In Colab\"/></a>"
      ]
    },
    {
      "cell_type": "code",
      "execution_count": 2,
      "id": "c5bab548",
      "metadata": {
        "id": "c5bab548"
      },
      "outputs": [],
      "source": [
        "import pandas as pd\n",
        "import numpy as np"
      ]
    },
    {
      "cell_type": "code",
      "execution_count": 3,
      "id": "62bffd24",
      "metadata": {
        "id": "62bffd24"
      },
      "outputs": [],
      "source": [
        "df = pd.read_csv('NaiveBayesClassifier.csv')"
      ]
    },
    {
      "cell_type": "code",
      "execution_count": 4,
      "id": "a8ac6923",
      "metadata": {
        "colab": {
          "base_uri": "https://localhost:8080/",
          "height": 206
        },
        "id": "a8ac6923",
        "outputId": "fa55555b-688e-465f-f5e8-57225bd0e7bb"
      },
      "outputs": [
        {
          "output_type": "execute_result",
          "data": {
            "text/plain": [
              "  Temperature Humidity    Wind   Outlook Play\n",
              "0         Hot     High    Weak     Sunny   No\n",
              "1         Hot     High  Strong     Sunny   No\n",
              "2        Mild     High    Weak  Overcast  Yes\n",
              "3        Cool   Normal    Weak     Rainy  Yes\n",
              "4        Cool      Low  Strong     Rainy  Yes"
            ],
            "text/html": [
              "\n",
              "  <div id=\"df-8de4eb2e-2ca0-457d-b451-d08fb1d3323b\" class=\"colab-df-container\">\n",
              "    <div>\n",
              "<style scoped>\n",
              "    .dataframe tbody tr th:only-of-type {\n",
              "        vertical-align: middle;\n",
              "    }\n",
              "\n",
              "    .dataframe tbody tr th {\n",
              "        vertical-align: top;\n",
              "    }\n",
              "\n",
              "    .dataframe thead th {\n",
              "        text-align: right;\n",
              "    }\n",
              "</style>\n",
              "<table border=\"1\" class=\"dataframe\">\n",
              "  <thead>\n",
              "    <tr style=\"text-align: right;\">\n",
              "      <th></th>\n",
              "      <th>Temperature</th>\n",
              "      <th>Humidity</th>\n",
              "      <th>Wind</th>\n",
              "      <th>Outlook</th>\n",
              "      <th>Play</th>\n",
              "    </tr>\n",
              "  </thead>\n",
              "  <tbody>\n",
              "    <tr>\n",
              "      <th>0</th>\n",
              "      <td>Hot</td>\n",
              "      <td>High</td>\n",
              "      <td>Weak</td>\n",
              "      <td>Sunny</td>\n",
              "      <td>No</td>\n",
              "    </tr>\n",
              "    <tr>\n",
              "      <th>1</th>\n",
              "      <td>Hot</td>\n",
              "      <td>High</td>\n",
              "      <td>Strong</td>\n",
              "      <td>Sunny</td>\n",
              "      <td>No</td>\n",
              "    </tr>\n",
              "    <tr>\n",
              "      <th>2</th>\n",
              "      <td>Mild</td>\n",
              "      <td>High</td>\n",
              "      <td>Weak</td>\n",
              "      <td>Overcast</td>\n",
              "      <td>Yes</td>\n",
              "    </tr>\n",
              "    <tr>\n",
              "      <th>3</th>\n",
              "      <td>Cool</td>\n",
              "      <td>Normal</td>\n",
              "      <td>Weak</td>\n",
              "      <td>Rainy</td>\n",
              "      <td>Yes</td>\n",
              "    </tr>\n",
              "    <tr>\n",
              "      <th>4</th>\n",
              "      <td>Cool</td>\n",
              "      <td>Low</td>\n",
              "      <td>Strong</td>\n",
              "      <td>Rainy</td>\n",
              "      <td>Yes</td>\n",
              "    </tr>\n",
              "  </tbody>\n",
              "</table>\n",
              "</div>\n",
              "    <div class=\"colab-df-buttons\">\n",
              "\n",
              "  <div class=\"colab-df-container\">\n",
              "    <button class=\"colab-df-convert\" onclick=\"convertToInteractive('df-8de4eb2e-2ca0-457d-b451-d08fb1d3323b')\"\n",
              "            title=\"Convert this dataframe to an interactive table.\"\n",
              "            style=\"display:none;\">\n",
              "\n",
              "  <svg xmlns=\"http://www.w3.org/2000/svg\" height=\"24px\" viewBox=\"0 -960 960 960\">\n",
              "    <path d=\"M120-120v-720h720v720H120Zm60-500h600v-160H180v160Zm220 220h160v-160H400v160Zm0 220h160v-160H400v160ZM180-400h160v-160H180v160Zm440 0h160v-160H620v160ZM180-180h160v-160H180v160Zm440 0h160v-160H620v160Z\"/>\n",
              "  </svg>\n",
              "    </button>\n",
              "\n",
              "  <style>\n",
              "    .colab-df-container {\n",
              "      display:flex;\n",
              "      gap: 12px;\n",
              "    }\n",
              "\n",
              "    .colab-df-convert {\n",
              "      background-color: #E8F0FE;\n",
              "      border: none;\n",
              "      border-radius: 50%;\n",
              "      cursor: pointer;\n",
              "      display: none;\n",
              "      fill: #1967D2;\n",
              "      height: 32px;\n",
              "      padding: 0 0 0 0;\n",
              "      width: 32px;\n",
              "    }\n",
              "\n",
              "    .colab-df-convert:hover {\n",
              "      background-color: #E2EBFA;\n",
              "      box-shadow: 0px 1px 2px rgba(60, 64, 67, 0.3), 0px 1px 3px 1px rgba(60, 64, 67, 0.15);\n",
              "      fill: #174EA6;\n",
              "    }\n",
              "\n",
              "    .colab-df-buttons div {\n",
              "      margin-bottom: 4px;\n",
              "    }\n",
              "\n",
              "    [theme=dark] .colab-df-convert {\n",
              "      background-color: #3B4455;\n",
              "      fill: #D2E3FC;\n",
              "    }\n",
              "\n",
              "    [theme=dark] .colab-df-convert:hover {\n",
              "      background-color: #434B5C;\n",
              "      box-shadow: 0px 1px 3px 1px rgba(0, 0, 0, 0.15);\n",
              "      filter: drop-shadow(0px 1px 2px rgba(0, 0, 0, 0.3));\n",
              "      fill: #FFFFFF;\n",
              "    }\n",
              "  </style>\n",
              "\n",
              "    <script>\n",
              "      const buttonEl =\n",
              "        document.querySelector('#df-8de4eb2e-2ca0-457d-b451-d08fb1d3323b button.colab-df-convert');\n",
              "      buttonEl.style.display =\n",
              "        google.colab.kernel.accessAllowed ? 'block' : 'none';\n",
              "\n",
              "      async function convertToInteractive(key) {\n",
              "        const element = document.querySelector('#df-8de4eb2e-2ca0-457d-b451-d08fb1d3323b');\n",
              "        const dataTable =\n",
              "          await google.colab.kernel.invokeFunction('convertToInteractive',\n",
              "                                                    [key], {});\n",
              "        if (!dataTable) return;\n",
              "\n",
              "        const docLinkHtml = 'Like what you see? Visit the ' +\n",
              "          '<a target=\"_blank\" href=https://colab.research.google.com/notebooks/data_table.ipynb>data table notebook</a>'\n",
              "          + ' to learn more about interactive tables.';\n",
              "        element.innerHTML = '';\n",
              "        dataTable['output_type'] = 'display_data';\n",
              "        await google.colab.output.renderOutput(dataTable, element);\n",
              "        const docLink = document.createElement('div');\n",
              "        docLink.innerHTML = docLinkHtml;\n",
              "        element.appendChild(docLink);\n",
              "      }\n",
              "    </script>\n",
              "  </div>\n",
              "\n",
              "\n",
              "<div id=\"df-f7f569f0-f151-47b4-a625-3c7bcbe40bfd\">\n",
              "  <button class=\"colab-df-quickchart\" onclick=\"quickchart('df-f7f569f0-f151-47b4-a625-3c7bcbe40bfd')\"\n",
              "            title=\"Suggest charts\"\n",
              "            style=\"display:none;\">\n",
              "\n",
              "<svg xmlns=\"http://www.w3.org/2000/svg\" height=\"24px\"viewBox=\"0 0 24 24\"\n",
              "     width=\"24px\">\n",
              "    <g>\n",
              "        <path d=\"M19 3H5c-1.1 0-2 .9-2 2v14c0 1.1.9 2 2 2h14c1.1 0 2-.9 2-2V5c0-1.1-.9-2-2-2zM9 17H7v-7h2v7zm4 0h-2V7h2v10zm4 0h-2v-4h2v4z\"/>\n",
              "    </g>\n",
              "</svg>\n",
              "  </button>\n",
              "\n",
              "<style>\n",
              "  .colab-df-quickchart {\n",
              "      --bg-color: #E8F0FE;\n",
              "      --fill-color: #1967D2;\n",
              "      --hover-bg-color: #E2EBFA;\n",
              "      --hover-fill-color: #174EA6;\n",
              "      --disabled-fill-color: #AAA;\n",
              "      --disabled-bg-color: #DDD;\n",
              "  }\n",
              "\n",
              "  [theme=dark] .colab-df-quickchart {\n",
              "      --bg-color: #3B4455;\n",
              "      --fill-color: #D2E3FC;\n",
              "      --hover-bg-color: #434B5C;\n",
              "      --hover-fill-color: #FFFFFF;\n",
              "      --disabled-bg-color: #3B4455;\n",
              "      --disabled-fill-color: #666;\n",
              "  }\n",
              "\n",
              "  .colab-df-quickchart {\n",
              "    background-color: var(--bg-color);\n",
              "    border: none;\n",
              "    border-radius: 50%;\n",
              "    cursor: pointer;\n",
              "    display: none;\n",
              "    fill: var(--fill-color);\n",
              "    height: 32px;\n",
              "    padding: 0;\n",
              "    width: 32px;\n",
              "  }\n",
              "\n",
              "  .colab-df-quickchart:hover {\n",
              "    background-color: var(--hover-bg-color);\n",
              "    box-shadow: 0 1px 2px rgba(60, 64, 67, 0.3), 0 1px 3px 1px rgba(60, 64, 67, 0.15);\n",
              "    fill: var(--button-hover-fill-color);\n",
              "  }\n",
              "\n",
              "  .colab-df-quickchart-complete:disabled,\n",
              "  .colab-df-quickchart-complete:disabled:hover {\n",
              "    background-color: var(--disabled-bg-color);\n",
              "    fill: var(--disabled-fill-color);\n",
              "    box-shadow: none;\n",
              "  }\n",
              "\n",
              "  .colab-df-spinner {\n",
              "    border: 2px solid var(--fill-color);\n",
              "    border-color: transparent;\n",
              "    border-bottom-color: var(--fill-color);\n",
              "    animation:\n",
              "      spin 1s steps(1) infinite;\n",
              "  }\n",
              "\n",
              "  @keyframes spin {\n",
              "    0% {\n",
              "      border-color: transparent;\n",
              "      border-bottom-color: var(--fill-color);\n",
              "      border-left-color: var(--fill-color);\n",
              "    }\n",
              "    20% {\n",
              "      border-color: transparent;\n",
              "      border-left-color: var(--fill-color);\n",
              "      border-top-color: var(--fill-color);\n",
              "    }\n",
              "    30% {\n",
              "      border-color: transparent;\n",
              "      border-left-color: var(--fill-color);\n",
              "      border-top-color: var(--fill-color);\n",
              "      border-right-color: var(--fill-color);\n",
              "    }\n",
              "    40% {\n",
              "      border-color: transparent;\n",
              "      border-right-color: var(--fill-color);\n",
              "      border-top-color: var(--fill-color);\n",
              "    }\n",
              "    60% {\n",
              "      border-color: transparent;\n",
              "      border-right-color: var(--fill-color);\n",
              "    }\n",
              "    80% {\n",
              "      border-color: transparent;\n",
              "      border-right-color: var(--fill-color);\n",
              "      border-bottom-color: var(--fill-color);\n",
              "    }\n",
              "    90% {\n",
              "      border-color: transparent;\n",
              "      border-bottom-color: var(--fill-color);\n",
              "    }\n",
              "  }\n",
              "</style>\n",
              "\n",
              "  <script>\n",
              "    async function quickchart(key) {\n",
              "      const quickchartButtonEl =\n",
              "        document.querySelector('#' + key + ' button');\n",
              "      quickchartButtonEl.disabled = true;  // To prevent multiple clicks.\n",
              "      quickchartButtonEl.classList.add('colab-df-spinner');\n",
              "      try {\n",
              "        const charts = await google.colab.kernel.invokeFunction(\n",
              "            'suggestCharts', [key], {});\n",
              "      } catch (error) {\n",
              "        console.error('Error during call to suggestCharts:', error);\n",
              "      }\n",
              "      quickchartButtonEl.classList.remove('colab-df-spinner');\n",
              "      quickchartButtonEl.classList.add('colab-df-quickchart-complete');\n",
              "    }\n",
              "    (() => {\n",
              "      let quickchartButtonEl =\n",
              "        document.querySelector('#df-f7f569f0-f151-47b4-a625-3c7bcbe40bfd button');\n",
              "      quickchartButtonEl.style.display =\n",
              "        google.colab.kernel.accessAllowed ? 'block' : 'none';\n",
              "    })();\n",
              "  </script>\n",
              "</div>\n",
              "\n",
              "    </div>\n",
              "  </div>\n"
            ],
            "application/vnd.google.colaboratory.intrinsic+json": {
              "type": "dataframe",
              "variable_name": "df",
              "summary": "{\n  \"name\": \"df\",\n  \"rows\": 151,\n  \"fields\": [\n    {\n      \"column\": \"Temperature\",\n      \"properties\": {\n        \"dtype\": \"category\",\n        \"num_unique_values\": 3,\n        \"samples\": [\n          \"Hot\",\n          \"Mild\",\n          \"Cool\"\n        ],\n        \"semantic_type\": \"\",\n        \"description\": \"\"\n      }\n    },\n    {\n      \"column\": \"Humidity\",\n      \"properties\": {\n        \"dtype\": \"category\",\n        \"num_unique_values\": 3,\n        \"samples\": [\n          \"High\",\n          \"Normal\",\n          \"Low\"\n        ],\n        \"semantic_type\": \"\",\n        \"description\": \"\"\n      }\n    },\n    {\n      \"column\": \"Wind\",\n      \"properties\": {\n        \"dtype\": \"category\",\n        \"num_unique_values\": 2,\n        \"samples\": [\n          \"Strong\",\n          \"Weak\"\n        ],\n        \"semantic_type\": \"\",\n        \"description\": \"\"\n      }\n    },\n    {\n      \"column\": \"Outlook\",\n      \"properties\": {\n        \"dtype\": \"category\",\n        \"num_unique_values\": 3,\n        \"samples\": [\n          \"Sunny\",\n          \"Overcast\"\n        ],\n        \"semantic_type\": \"\",\n        \"description\": \"\"\n      }\n    },\n    {\n      \"column\": \"Play\",\n      \"properties\": {\n        \"dtype\": \"category\",\n        \"num_unique_values\": 2,\n        \"samples\": [\n          \"Yes\",\n          \"No\"\n        ],\n        \"semantic_type\": \"\",\n        \"description\": \"\"\n      }\n    }\n  ]\n}"
            }
          },
          "metadata": {},
          "execution_count": 4
        }
      ],
      "source": [
        "df.head()"
      ]
    },
    {
      "cell_type": "code",
      "execution_count": 5,
      "id": "6cb5a054",
      "metadata": {
        "scrolled": true,
        "colab": {
          "base_uri": "https://localhost:8080/",
          "height": 81
        },
        "id": "6cb5a054",
        "outputId": "750d8931-0434-4d90-da9e-cf9fe3222514"
      },
      "outputs": [
        {
          "output_type": "execute_result",
          "data": {
            "text/plain": [
              "   Temperature Humidity    Wind Outlook Play\n",
              "85        Mild     High  Strong   Rainy  Yes"
            ],
            "text/html": [
              "\n",
              "  <div id=\"df-014f58a2-874c-4bcd-bf24-a479efdeeb14\" class=\"colab-df-container\">\n",
              "    <div>\n",
              "<style scoped>\n",
              "    .dataframe tbody tr th:only-of-type {\n",
              "        vertical-align: middle;\n",
              "    }\n",
              "\n",
              "    .dataframe tbody tr th {\n",
              "        vertical-align: top;\n",
              "    }\n",
              "\n",
              "    .dataframe thead th {\n",
              "        text-align: right;\n",
              "    }\n",
              "</style>\n",
              "<table border=\"1\" class=\"dataframe\">\n",
              "  <thead>\n",
              "    <tr style=\"text-align: right;\">\n",
              "      <th></th>\n",
              "      <th>Temperature</th>\n",
              "      <th>Humidity</th>\n",
              "      <th>Wind</th>\n",
              "      <th>Outlook</th>\n",
              "      <th>Play</th>\n",
              "    </tr>\n",
              "  </thead>\n",
              "  <tbody>\n",
              "    <tr>\n",
              "      <th>85</th>\n",
              "      <td>Mild</td>\n",
              "      <td>High</td>\n",
              "      <td>Strong</td>\n",
              "      <td>Rainy</td>\n",
              "      <td>Yes</td>\n",
              "    </tr>\n",
              "  </tbody>\n",
              "</table>\n",
              "</div>\n",
              "    <div class=\"colab-df-buttons\">\n",
              "\n",
              "  <div class=\"colab-df-container\">\n",
              "    <button class=\"colab-df-convert\" onclick=\"convertToInteractive('df-014f58a2-874c-4bcd-bf24-a479efdeeb14')\"\n",
              "            title=\"Convert this dataframe to an interactive table.\"\n",
              "            style=\"display:none;\">\n",
              "\n",
              "  <svg xmlns=\"http://www.w3.org/2000/svg\" height=\"24px\" viewBox=\"0 -960 960 960\">\n",
              "    <path d=\"M120-120v-720h720v720H120Zm60-500h600v-160H180v160Zm220 220h160v-160H400v160Zm0 220h160v-160H400v160ZM180-400h160v-160H180v160Zm440 0h160v-160H620v160ZM180-180h160v-160H180v160Zm440 0h160v-160H620v160Z\"/>\n",
              "  </svg>\n",
              "    </button>\n",
              "\n",
              "  <style>\n",
              "    .colab-df-container {\n",
              "      display:flex;\n",
              "      gap: 12px;\n",
              "    }\n",
              "\n",
              "    .colab-df-convert {\n",
              "      background-color: #E8F0FE;\n",
              "      border: none;\n",
              "      border-radius: 50%;\n",
              "      cursor: pointer;\n",
              "      display: none;\n",
              "      fill: #1967D2;\n",
              "      height: 32px;\n",
              "      padding: 0 0 0 0;\n",
              "      width: 32px;\n",
              "    }\n",
              "\n",
              "    .colab-df-convert:hover {\n",
              "      background-color: #E2EBFA;\n",
              "      box-shadow: 0px 1px 2px rgba(60, 64, 67, 0.3), 0px 1px 3px 1px rgba(60, 64, 67, 0.15);\n",
              "      fill: #174EA6;\n",
              "    }\n",
              "\n",
              "    .colab-df-buttons div {\n",
              "      margin-bottom: 4px;\n",
              "    }\n",
              "\n",
              "    [theme=dark] .colab-df-convert {\n",
              "      background-color: #3B4455;\n",
              "      fill: #D2E3FC;\n",
              "    }\n",
              "\n",
              "    [theme=dark] .colab-df-convert:hover {\n",
              "      background-color: #434B5C;\n",
              "      box-shadow: 0px 1px 3px 1px rgba(0, 0, 0, 0.15);\n",
              "      filter: drop-shadow(0px 1px 2px rgba(0, 0, 0, 0.3));\n",
              "      fill: #FFFFFF;\n",
              "    }\n",
              "  </style>\n",
              "\n",
              "    <script>\n",
              "      const buttonEl =\n",
              "        document.querySelector('#df-014f58a2-874c-4bcd-bf24-a479efdeeb14 button.colab-df-convert');\n",
              "      buttonEl.style.display =\n",
              "        google.colab.kernel.accessAllowed ? 'block' : 'none';\n",
              "\n",
              "      async function convertToInteractive(key) {\n",
              "        const element = document.querySelector('#df-014f58a2-874c-4bcd-bf24-a479efdeeb14');\n",
              "        const dataTable =\n",
              "          await google.colab.kernel.invokeFunction('convertToInteractive',\n",
              "                                                    [key], {});\n",
              "        if (!dataTable) return;\n",
              "\n",
              "        const docLinkHtml = 'Like what you see? Visit the ' +\n",
              "          '<a target=\"_blank\" href=https://colab.research.google.com/notebooks/data_table.ipynb>data table notebook</a>'\n",
              "          + ' to learn more about interactive tables.';\n",
              "        element.innerHTML = '';\n",
              "        dataTable['output_type'] = 'display_data';\n",
              "        await google.colab.output.renderOutput(dataTable, element);\n",
              "        const docLink = document.createElement('div');\n",
              "        docLink.innerHTML = docLinkHtml;\n",
              "        element.appendChild(docLink);\n",
              "      }\n",
              "    </script>\n",
              "  </div>\n",
              "\n",
              "\n",
              "    </div>\n",
              "  </div>\n"
            ],
            "application/vnd.google.colaboratory.intrinsic+json": {
              "type": "dataframe",
              "summary": "{\n  \"name\": \"df\",\n  \"rows\": 1,\n  \"fields\": [\n    {\n      \"column\": \"Temperature\",\n      \"properties\": {\n        \"dtype\": \"string\",\n        \"num_unique_values\": 1,\n        \"samples\": [\n          \"Mild\"\n        ],\n        \"semantic_type\": \"\",\n        \"description\": \"\"\n      }\n    },\n    {\n      \"column\": \"Humidity\",\n      \"properties\": {\n        \"dtype\": \"string\",\n        \"num_unique_values\": 1,\n        \"samples\": [\n          \"High\"\n        ],\n        \"semantic_type\": \"\",\n        \"description\": \"\"\n      }\n    },\n    {\n      \"column\": \"Wind\",\n      \"properties\": {\n        \"dtype\": \"string\",\n        \"num_unique_values\": 1,\n        \"samples\": [\n          \"Strong\"\n        ],\n        \"semantic_type\": \"\",\n        \"description\": \"\"\n      }\n    },\n    {\n      \"column\": \"Outlook\",\n      \"properties\": {\n        \"dtype\": \"string\",\n        \"num_unique_values\": 1,\n        \"samples\": [\n          \"Rainy\"\n        ],\n        \"semantic_type\": \"\",\n        \"description\": \"\"\n      }\n    },\n    {\n      \"column\": \"Play\",\n      \"properties\": {\n        \"dtype\": \"string\",\n        \"num_unique_values\": 1,\n        \"samples\": [\n          \"Yes\"\n        ],\n        \"semantic_type\": \"\",\n        \"description\": \"\"\n      }\n    }\n  ]\n}"
            }
          },
          "metadata": {},
          "execution_count": 5
        }
      ],
      "source": [
        "df.sample()"
      ]
    },
    {
      "cell_type": "markdown",
      "id": "66c57b4f",
      "metadata": {
        "id": "66c57b4f"
      },
      "source": [
        "### Implementing Naive Bayes Algorithm From Scrath For Binary Classification\n",
        "\n",
        "- Dataset Used -> Dummy Dataset Generated From ChatGPT\n",
        "- Comparision With Naive Bayes Algorithm from sklearn\n",
        "\n",
        "\n",
        "#### Steps Involved\n",
        "\n",
        "1. Analyze the Distribution of Classes & Measure thier Probablities\n",
        "2. for each class -> Compute the Joint Probablity with all the attributes\n",
        "3. Split the Data into Train & Test for Verification"
      ]
    },
    {
      "cell_type": "code",
      "execution_count": 6,
      "id": "5bd0eb7d",
      "metadata": {
        "colab": {
          "base_uri": "https://localhost:8080/"
        },
        "id": "5bd0eb7d",
        "outputId": "6a48a7e9-bdeb-437f-a829-4f962c859f75"
      },
      "outputs": [
        {
          "output_type": "execute_result",
          "data": {
            "text/plain": [
              "Play\n",
              "Yes    114\n",
              "No      37\n",
              "Name: count, dtype: int64"
            ]
          },
          "metadata": {},
          "execution_count": 6
        }
      ],
      "source": [
        "df['Play'].value_counts()"
      ]
    },
    {
      "cell_type": "code",
      "execution_count": 14,
      "id": "06d7d8b4",
      "metadata": {
        "id": "06d7d8b4"
      },
      "outputs": [],
      "source": [
        "# Computing Probablities\n",
        "classes_probablity = pd.crosstab(df['Play'],columns='Play',normalize=True)"
      ]
    },
    {
      "cell_type": "code",
      "execution_count": 15,
      "id": "d981708b",
      "metadata": {
        "id": "d981708b"
      },
      "outputs": [],
      "source": [
        "c1 = round(classes_probablity.values[0][0], 3)\n",
        "c2 = round(classes_probablity.values[1][0], 3)"
      ]
    },
    {
      "cell_type": "code",
      "execution_count": 16,
      "id": "15200b9e",
      "metadata": {
        "colab": {
          "base_uri": "https://localhost:8080/"
        },
        "id": "15200b9e",
        "outputId": "773658dc-3236-4bb7-e621-f2acba9911af"
      },
      "outputs": [
        {
          "output_type": "execute_result",
          "data": {
            "text/plain": [
              "0.245"
            ]
          },
          "metadata": {},
          "execution_count": 16
        }
      ],
      "source": [
        "c1"
      ]
    },
    {
      "cell_type": "code",
      "execution_count": 17,
      "id": "03833a26",
      "metadata": {
        "colab": {
          "base_uri": "https://localhost:8080/"
        },
        "id": "03833a26",
        "outputId": "56f8945d-d2b6-4b4c-acb4-3c01f78033ed"
      },
      "outputs": [
        {
          "output_type": "execute_result",
          "data": {
            "text/plain": [
              "0.755"
            ]
          },
          "metadata": {},
          "execution_count": 17
        }
      ],
      "source": [
        "c2"
      ]
    },
    {
      "cell_type": "code",
      "execution_count": null,
      "id": "2d797c19",
      "metadata": {
        "id": "2d797c19"
      },
      "outputs": [],
      "source": [
        "classes = df.Play.value_counts().index"
      ]
    },
    {
      "cell_type": "code",
      "execution_count": null,
      "id": "cde22882",
      "metadata": {
        "id": "cde22882",
        "outputId": "f4dac12b-2bd4-4235-96f3-a57a348efb90"
      },
      "outputs": [
        {
          "data": {
            "text/plain": [
              "Index(['Yes', 'No'], dtype='object', name='Play')"
            ]
          },
          "execution_count": 16,
          "metadata": {},
          "output_type": "execute_result"
        }
      ],
      "source": [
        "classes"
      ]
    },
    {
      "cell_type": "code",
      "execution_count": null,
      "id": "009a3b6f",
      "metadata": {
        "id": "009a3b6f",
        "outputId": "3e53d887-9d47-49f1-ea79-63d7a080770f"
      },
      "outputs": [
        {
          "data": {
            "text/plain": [
              "3"
            ]
          },
          "execution_count": 17,
          "metadata": {},
          "output_type": "execute_result"
        }
      ],
      "source": [
        "len(df.iloc[:,0].value_counts().index)"
      ]
    },
    {
      "cell_type": "code",
      "execution_count": null,
      "id": "c5920805",
      "metadata": {
        "id": "c5920805",
        "outputId": "1b461311-7a45-4538-80da-888836c036bf"
      },
      "outputs": [
        {
          "data": {
            "text/plain": [
              "array([59, 50, 42], dtype=int64)"
            ]
          },
          "execution_count": 18,
          "metadata": {},
          "output_type": "execute_result"
        }
      ],
      "source": [
        "df.iloc[:,0].value_counts().values"
      ]
    },
    {
      "cell_type": "code",
      "execution_count": null,
      "id": "aa038842",
      "metadata": {
        "id": "aa038842"
      },
      "outputs": [],
      "source": [
        "A1 = []"
      ]
    },
    {
      "cell_type": "code",
      "execution_count": null,
      "id": "fb900412",
      "metadata": {
        "id": "fb900412"
      },
      "outputs": [],
      "source": [
        "temp_array = df.iloc[:,0].value_counts().index"
      ]
    },
    {
      "cell_type": "code",
      "execution_count": null,
      "id": "aa20ef99",
      "metadata": {
        "id": "aa20ef99",
        "outputId": "5d777eee-a4eb-4ef8-e844-ea4fd9eaf984"
      },
      "outputs": [
        {
          "data": {
            "text/plain": [
              "(53, 5)"
            ]
          },
          "execution_count": 21,
          "metadata": {},
          "output_type": "execute_result"
        }
      ],
      "source": [
        "df[(df.iloc[:,0] == temp_array[0]) & (df['Play'] == classes[0])].shape"
      ]
    },
    {
      "cell_type": "code",
      "execution_count": null,
      "id": "3dce1bbb",
      "metadata": {
        "id": "3dce1bbb",
        "outputId": "e3751378-42eb-4889-9700-e9cbefecd107"
      },
      "outputs": [
        {
          "data": {
            "text/plain": [
              "(114, 5)"
            ]
          },
          "execution_count": 22,
          "metadata": {},
          "output_type": "execute_result"
        }
      ],
      "source": [
        "df[(df['Play']==classes[0])].shape"
      ]
    },
    {
      "cell_type": "code",
      "execution_count": null,
      "id": "b78c6c61",
      "metadata": {
        "id": "b78c6c61"
      },
      "outputs": [],
      "source": []
    },
    {
      "cell_type": "code",
      "execution_count": null,
      "id": "10db7e29",
      "metadata": {
        "id": "10db7e29",
        "outputId": "85d123d6-3fa2-461c-93d5-36e2e14c6403"
      },
      "outputs": [
        {
          "data": {
            "text/plain": [
              "0.4649122807017544"
            ]
          },
          "execution_count": 23,
          "metadata": {},
          "output_type": "execute_result"
        }
      ],
      "source": [
        "53/114"
      ]
    },
    {
      "cell_type": "code",
      "execution_count": null,
      "id": "04611f78",
      "metadata": {
        "id": "04611f78"
      },
      "outputs": [],
      "source": [
        "for i in range(len(classes)):\n",
        "    temp_df = df.iloc[:,0].value_counts()\n",
        "    temp_A1 = []\n",
        "    for j in range(len(temp_df)):\n",
        "        temp_A1.append((df[((df['Play']==classes[i]) & (df.iloc[:,0] == temp_df.index[j]))].shape[0])/(df['Play']==classes[i]).sum())\n",
        "    A1.append(temp_A1)\n",
        "\n",
        ""
      ]
    },
    {
      "cell_type": "code",
      "execution_count": null,
      "id": "aa18b45d",
      "metadata": {
        "id": "aa18b45d",
        "outputId": "74b26980-c726-4b6d-d5f6-f7a4a13dabab"
      },
      "outputs": [
        {
          "name": "stdout",
          "output_type": "stream",
          "text": [
            "[[0.4649122807017544, 0.19298245614035087, 0.34210526315789475], [0.16216216216216217, 0.7567567567567568, 0.08108108108108109]]\n"
          ]
        }
      ],
      "source": [
        "print(A1)"
      ]
    },
    {
      "cell_type": "code",
      "execution_count": null,
      "id": "98011aac",
      "metadata": {
        "id": "98011aac",
        "outputId": "ed962c70-4eaf-4ba6-963a-fa7b153704d4"
      },
      "outputs": [
        {
          "data": {
            "text/html": [
              "<div>\n",
              "<style scoped>\n",
              "    .dataframe tbody tr th:only-of-type {\n",
              "        vertical-align: middle;\n",
              "    }\n",
              "\n",
              "    .dataframe tbody tr th {\n",
              "        vertical-align: top;\n",
              "    }\n",
              "\n",
              "    .dataframe thead th {\n",
              "        text-align: right;\n",
              "    }\n",
              "</style>\n",
              "<table border=\"1\" class=\"dataframe\">\n",
              "  <thead>\n",
              "    <tr style=\"text-align: right;\">\n",
              "      <th>Play</th>\n",
              "      <th>No</th>\n",
              "      <th>Yes</th>\n",
              "      <th>All</th>\n",
              "    </tr>\n",
              "    <tr>\n",
              "      <th>Temperature</th>\n",
              "      <th></th>\n",
              "      <th></th>\n",
              "      <th></th>\n",
              "    </tr>\n",
              "  </thead>\n",
              "  <tbody>\n",
              "    <tr>\n",
              "      <th>Cool</th>\n",
              "      <td>0.081081</td>\n",
              "      <td>0.342105</td>\n",
              "      <td>0.278146</td>\n",
              "    </tr>\n",
              "    <tr>\n",
              "      <th>Hot</th>\n",
              "      <td>0.756757</td>\n",
              "      <td>0.192982</td>\n",
              "      <td>0.331126</td>\n",
              "    </tr>\n",
              "    <tr>\n",
              "      <th>Mild</th>\n",
              "      <td>0.162162</td>\n",
              "      <td>0.464912</td>\n",
              "      <td>0.390728</td>\n",
              "    </tr>\n",
              "  </tbody>\n",
              "</table>\n",
              "</div>"
            ],
            "text/plain": [
              "Play               No       Yes       All\n",
              "Temperature                              \n",
              "Cool         0.081081  0.342105  0.278146\n",
              "Hot          0.756757  0.192982  0.331126\n",
              "Mild         0.162162  0.464912  0.390728"
            ]
          },
          "execution_count": 40,
          "metadata": {},
          "output_type": "execute_result"
        }
      ],
      "source": [
        "pd.crosstab(df['Temperature'],df['Play'],margins=True,normalize='columns')"
      ]
    },
    {
      "cell_type": "code",
      "execution_count": null,
      "id": "1ffa4d12",
      "metadata": {
        "id": "1ffa4d12"
      },
      "outputs": [],
      "source": [
        "A2 = []"
      ]
    },
    {
      "cell_type": "code",
      "execution_count": null,
      "id": "385764e8",
      "metadata": {
        "id": "385764e8"
      },
      "outputs": [],
      "source": [
        "for i in range(len(classes)):\n",
        "    temp_df = df.iloc[:,1].value_counts()\n",
        "    temp_A1 = []\n",
        "    for j in range(len(temp_df)):\n",
        "        temp_A1.append((df[((df['Play']==classes[i]) & (df.iloc[:,1] == temp_df.index[j]))].shape[0])/(df['Play']==classes[i]).sum())\n",
        "    A2.append(temp_A1)"
      ]
    },
    {
      "cell_type": "code",
      "execution_count": null,
      "id": "ee11ef2b",
      "metadata": {
        "id": "ee11ef2b",
        "outputId": "8b5d66c4-920b-4efb-90da-426eb2843988"
      },
      "outputs": [
        {
          "data": {
            "text/plain": [
              "[[0.3508771929824561, 0.2631578947368421, 0.38596491228070173],\n",
              " [0.43243243243243246, 0.5405405405405406, 0.02702702702702703]]"
            ]
          },
          "execution_count": 47,
          "metadata": {},
          "output_type": "execute_result"
        }
      ],
      "source": [
        "A2"
      ]
    },
    {
      "cell_type": "code",
      "execution_count": null,
      "id": "f54ff895",
      "metadata": {
        "id": "f54ff895",
        "outputId": "f0022af9-ba0f-44ed-b883-dc946d34552e"
      },
      "outputs": [
        {
          "data": {
            "text/html": [
              "<div>\n",
              "<style scoped>\n",
              "    .dataframe tbody tr th:only-of-type {\n",
              "        vertical-align: middle;\n",
              "    }\n",
              "\n",
              "    .dataframe tbody tr th {\n",
              "        vertical-align: top;\n",
              "    }\n",
              "\n",
              "    .dataframe thead th {\n",
              "        text-align: right;\n",
              "    }\n",
              "</style>\n",
              "<table border=\"1\" class=\"dataframe\">\n",
              "  <thead>\n",
              "    <tr style=\"text-align: right;\">\n",
              "      <th>Play</th>\n",
              "      <th>No</th>\n",
              "      <th>Yes</th>\n",
              "      <th>All</th>\n",
              "    </tr>\n",
              "    <tr>\n",
              "      <th>Humidity</th>\n",
              "      <th></th>\n",
              "      <th></th>\n",
              "      <th></th>\n",
              "    </tr>\n",
              "  </thead>\n",
              "  <tbody>\n",
              "    <tr>\n",
              "      <th>High</th>\n",
              "      <td>0.432432</td>\n",
              "      <td>0.350877</td>\n",
              "      <td>0.370861</td>\n",
              "    </tr>\n",
              "    <tr>\n",
              "      <th>Low</th>\n",
              "      <td>0.027027</td>\n",
              "      <td>0.385965</td>\n",
              "      <td>0.298013</td>\n",
              "    </tr>\n",
              "    <tr>\n",
              "      <th>Normal</th>\n",
              "      <td>0.540541</td>\n",
              "      <td>0.263158</td>\n",
              "      <td>0.331126</td>\n",
              "    </tr>\n",
              "  </tbody>\n",
              "</table>\n",
              "</div>"
            ],
            "text/plain": [
              "Play            No       Yes       All\n",
              "Humidity                              \n",
              "High      0.432432  0.350877  0.370861\n",
              "Low       0.027027  0.385965  0.298013\n",
              "Normal    0.540541  0.263158  0.331126"
            ]
          },
          "execution_count": 48,
          "metadata": {},
          "output_type": "execute_result"
        }
      ],
      "source": [
        "pd.crosstab(df['Humidity'],df['Play'],margins=True,normalize='columns')"
      ]
    },
    {
      "cell_type": "code",
      "execution_count": null,
      "id": "d07b34c2",
      "metadata": {
        "id": "d07b34c2"
      },
      "outputs": [],
      "source": [
        "A3 = []"
      ]
    },
    {
      "cell_type": "code",
      "execution_count": null,
      "id": "6ae68ffe",
      "metadata": {
        "id": "6ae68ffe"
      },
      "outputs": [],
      "source": [
        "for i in range(len(classes)):\n",
        "    temp_df = df.iloc[:,2].value_counts()\n",
        "    temp_A1 = []\n",
        "    for j in range(len(temp_df)):\n",
        "        temp_A1.append((df[((df['Play']==classes[i]) & (df.iloc[:,2] == temp_df.index[j]))].shape[0])/(df['Play']==classes[i]).sum())\n",
        "    A3.append(temp_A1)"
      ]
    },
    {
      "cell_type": "code",
      "execution_count": null,
      "id": "de780aad",
      "metadata": {
        "id": "de780aad",
        "outputId": "24c64380-03fe-4969-9c14-197f8bc272d2"
      },
      "outputs": [
        {
          "data": {
            "text/plain": [
              "[[0.5526315789473685, 0.4473684210526316],\n",
              " [0.6216216216216216, 0.3783783783783784]]"
            ]
          },
          "execution_count": 52,
          "metadata": {},
          "output_type": "execute_result"
        }
      ],
      "source": [
        "A3"
      ]
    },
    {
      "cell_type": "code",
      "execution_count": null,
      "id": "ac798564",
      "metadata": {
        "id": "ac798564",
        "outputId": "c025019e-b71d-46cb-c572-9c5fff7aed49"
      },
      "outputs": [
        {
          "data": {
            "text/html": [
              "<div>\n",
              "<style scoped>\n",
              "    .dataframe tbody tr th:only-of-type {\n",
              "        vertical-align: middle;\n",
              "    }\n",
              "\n",
              "    .dataframe tbody tr th {\n",
              "        vertical-align: top;\n",
              "    }\n",
              "\n",
              "    .dataframe thead th {\n",
              "        text-align: right;\n",
              "    }\n",
              "</style>\n",
              "<table border=\"1\" class=\"dataframe\">\n",
              "  <thead>\n",
              "    <tr style=\"text-align: right;\">\n",
              "      <th>Play</th>\n",
              "      <th>No</th>\n",
              "      <th>Yes</th>\n",
              "      <th>All</th>\n",
              "    </tr>\n",
              "    <tr>\n",
              "      <th>Wind</th>\n",
              "      <th></th>\n",
              "      <th></th>\n",
              "      <th></th>\n",
              "    </tr>\n",
              "  </thead>\n",
              "  <tbody>\n",
              "    <tr>\n",
              "      <th>Strong</th>\n",
              "      <td>0.378378</td>\n",
              "      <td>0.447368</td>\n",
              "      <td>0.430464</td>\n",
              "    </tr>\n",
              "    <tr>\n",
              "      <th>Weak</th>\n",
              "      <td>0.621622</td>\n",
              "      <td>0.552632</td>\n",
              "      <td>0.569536</td>\n",
              "    </tr>\n",
              "  </tbody>\n",
              "</table>\n",
              "</div>"
            ],
            "text/plain": [
              "Play          No       Yes       All\n",
              "Wind                                \n",
              "Strong  0.378378  0.447368  0.430464\n",
              "Weak    0.621622  0.552632  0.569536"
            ]
          },
          "execution_count": 53,
          "metadata": {},
          "output_type": "execute_result"
        }
      ],
      "source": [
        "pd.crosstab(df['Wind'],df['Play'],margins=True,normalize='columns')"
      ]
    },
    {
      "cell_type": "code",
      "execution_count": null,
      "id": "3aded827",
      "metadata": {
        "id": "3aded827"
      },
      "outputs": [],
      "source": [
        "A4 = []"
      ]
    },
    {
      "cell_type": "code",
      "execution_count": null,
      "id": "fba9699e",
      "metadata": {
        "id": "fba9699e"
      },
      "outputs": [],
      "source": [
        "for i in range(len(classes)):\n",
        "    temp_df = df.iloc[:,3].value_counts()\n",
        "    temp_A1 = []\n",
        "    for j in range(len(temp_df)):\n",
        "        temp_A1.append((df[((df['Play']==classes[i]) & (df.iloc[:,3] == temp_df.index[j]))].shape[0])/(df['Play']==classes[i]).sum())\n",
        "    A4.append(temp_A1)"
      ]
    },
    {
      "cell_type": "code",
      "execution_count": null,
      "id": "aa856f2f",
      "metadata": {
        "id": "aa856f2f",
        "outputId": "b135f32c-2ad8-49c1-e5f1-08dac0836528"
      },
      "outputs": [
        {
          "data": {
            "text/plain": [
              "[[0.3333333333333333, 0.3508771929824561, 0.3157894736842105],\n",
              " [0.5405405405405406, 0.4594594594594595, 0.0]]"
            ]
          },
          "execution_count": 56,
          "metadata": {},
          "output_type": "execute_result"
        }
      ],
      "source": [
        "A4"
      ]
    },
    {
      "cell_type": "code",
      "execution_count": null,
      "id": "630d653b",
      "metadata": {
        "id": "630d653b",
        "outputId": "8490d495-27dd-4744-a7cf-7b815e2ef1b4"
      },
      "outputs": [
        {
          "data": {
            "text/html": [
              "<div>\n",
              "<style scoped>\n",
              "    .dataframe tbody tr th:only-of-type {\n",
              "        vertical-align: middle;\n",
              "    }\n",
              "\n",
              "    .dataframe tbody tr th {\n",
              "        vertical-align: top;\n",
              "    }\n",
              "\n",
              "    .dataframe thead th {\n",
              "        text-align: right;\n",
              "    }\n",
              "</style>\n",
              "<table border=\"1\" class=\"dataframe\">\n",
              "  <thead>\n",
              "    <tr style=\"text-align: right;\">\n",
              "      <th>Play</th>\n",
              "      <th>No</th>\n",
              "      <th>Yes</th>\n",
              "      <th>All</th>\n",
              "    </tr>\n",
              "    <tr>\n",
              "      <th>Outlook</th>\n",
              "      <th></th>\n",
              "      <th></th>\n",
              "      <th></th>\n",
              "    </tr>\n",
              "  </thead>\n",
              "  <tbody>\n",
              "    <tr>\n",
              "      <th>Overcast</th>\n",
              "      <td>0.000000</td>\n",
              "      <td>0.315789</td>\n",
              "      <td>0.238411</td>\n",
              "    </tr>\n",
              "    <tr>\n",
              "      <th>Rainy</th>\n",
              "      <td>0.459459</td>\n",
              "      <td>0.350877</td>\n",
              "      <td>0.377483</td>\n",
              "    </tr>\n",
              "    <tr>\n",
              "      <th>Sunny</th>\n",
              "      <td>0.540541</td>\n",
              "      <td>0.333333</td>\n",
              "      <td>0.384106</td>\n",
              "    </tr>\n",
              "  </tbody>\n",
              "</table>\n",
              "</div>"
            ],
            "text/plain": [
              "Play            No       Yes       All\n",
              "Outlook                               \n",
              "Overcast  0.000000  0.315789  0.238411\n",
              "Rainy     0.459459  0.350877  0.377483\n",
              "Sunny     0.540541  0.333333  0.384106"
            ]
          },
          "execution_count": 65,
          "metadata": {},
          "output_type": "execute_result"
        }
      ],
      "source": [
        "pd.crosstab(df['Outlook'],df['Play'],margins=True,normalize='columns')"
      ]
    },
    {
      "cell_type": "code",
      "execution_count": null,
      "id": "ae5c7e62",
      "metadata": {
        "id": "ae5c7e62"
      },
      "outputs": [],
      "source": [
        "# Mild Normal Strong Overcastt\n",
        "pehla = A1[0][0] * A2[0][1] * A3[0][0] * A4[0][0] * c2\n",
        "dusra = A1[1][0] * A2[1][1] * A3[1][0] * A4[1][0] * c1"
      ]
    },
    {
      "cell_type": "code",
      "execution_count": null,
      "id": "76389b3c",
      "metadata": {
        "id": "76389b3c",
        "outputId": "21e33775-e0ff-486b-e1c2-984b5f94fa20"
      },
      "outputs": [
        {
          "data": {
            "text/plain": [
              "1.7015660689118923"
            ]
          },
          "execution_count": 120,
          "metadata": {},
          "output_type": "execute_result"
        }
      ],
      "source": [
        "pehla*100"
      ]
    },
    {
      "cell_type": "code",
      "execution_count": null,
      "id": "053deac6",
      "metadata": {
        "id": "053deac6",
        "outputId": "bbe75f32-0cf6-4dbe-fc96-26f1a131e551"
      },
      "outputs": [
        {
          "data": {
            "text/plain": [
              "0.7216028932412958"
            ]
          },
          "execution_count": 121,
          "metadata": {},
          "output_type": "execute_result"
        }
      ],
      "source": [
        "dusra*100"
      ]
    },
    {
      "cell_type": "code",
      "execution_count": null,
      "id": "6b9985c7",
      "metadata": {
        "id": "6b9985c7",
        "outputId": "fddf8e11-5c8d-4eab-efdc-455ab2328f04"
      },
      "outputs": [
        {
          "data": {
            "text/html": [
              "<div>\n",
              "<style scoped>\n",
              "    .dataframe tbody tr th:only-of-type {\n",
              "        vertical-align: middle;\n",
              "    }\n",
              "\n",
              "    .dataframe tbody tr th {\n",
              "        vertical-align: top;\n",
              "    }\n",
              "\n",
              "    .dataframe thead th {\n",
              "        text-align: right;\n",
              "    }\n",
              "</style>\n",
              "<table border=\"1\" class=\"dataframe\">\n",
              "  <thead>\n",
              "    <tr style=\"text-align: right;\">\n",
              "      <th></th>\n",
              "      <th>Temperature</th>\n",
              "      <th>Humidity</th>\n",
              "      <th>Wind</th>\n",
              "      <th>Outlook</th>\n",
              "      <th>Play</th>\n",
              "    </tr>\n",
              "  </thead>\n",
              "  <tbody>\n",
              "    <tr>\n",
              "      <th>38</th>\n",
              "      <td>Mild</td>\n",
              "      <td>Normal</td>\n",
              "      <td>Weak</td>\n",
              "      <td>Sunny</td>\n",
              "      <td>Yes</td>\n",
              "    </tr>\n",
              "    <tr>\n",
              "      <th>65</th>\n",
              "      <td>Mild</td>\n",
              "      <td>Normal</td>\n",
              "      <td>Weak</td>\n",
              "      <td>Sunny</td>\n",
              "      <td>Yes</td>\n",
              "    </tr>\n",
              "    <tr>\n",
              "      <th>87</th>\n",
              "      <td>Mild</td>\n",
              "      <td>Normal</td>\n",
              "      <td>Weak</td>\n",
              "      <td>Sunny</td>\n",
              "      <td>Yes</td>\n",
              "    </tr>\n",
              "    <tr>\n",
              "      <th>115</th>\n",
              "      <td>Mild</td>\n",
              "      <td>Normal</td>\n",
              "      <td>Weak</td>\n",
              "      <td>Sunny</td>\n",
              "      <td>Yes</td>\n",
              "    </tr>\n",
              "    <tr>\n",
              "      <th>143</th>\n",
              "      <td>Mild</td>\n",
              "      <td>Normal</td>\n",
              "      <td>Weak</td>\n",
              "      <td>Sunny</td>\n",
              "      <td>Yes</td>\n",
              "    </tr>\n",
              "  </tbody>\n",
              "</table>\n",
              "</div>"
            ],
            "text/plain": [
              "    Temperature Humidity  Wind Outlook Play\n",
              "38         Mild   Normal  Weak   Sunny  Yes\n",
              "65         Mild   Normal  Weak   Sunny  Yes\n",
              "87         Mild   Normal  Weak   Sunny  Yes\n",
              "115        Mild   Normal  Weak   Sunny  Yes\n",
              "143        Mild   Normal  Weak   Sunny  Yes"
            ]
          },
          "execution_count": 118,
          "metadata": {},
          "output_type": "execute_result"
        }
      ],
      "source": [
        "df[( (df['Temperature'] == 'Mild') & (df['Humidity'] == 'Normal') & (df['Wind'] == 'Weak') & (df['Outlook']=='Sunny') )]"
      ]
    },
    {
      "cell_type": "code",
      "execution_count": null,
      "id": "57fee376",
      "metadata": {
        "id": "57fee376"
      },
      "outputs": [],
      "source": []
    }
  ],
  "metadata": {
    "kernelspec": {
      "display_name": "Python 3 (ipykernel)",
      "language": "python",
      "name": "python3"
    },
    "language_info": {
      "codemirror_mode": {
        "name": "ipython",
        "version": 3
      },
      "file_extension": ".py",
      "mimetype": "text/x-python",
      "name": "python",
      "nbconvert_exporter": "python",
      "pygments_lexer": "ipython3",
      "version": "3.11.5"
    },
    "colab": {
      "provenance": [],
      "include_colab_link": true
    }
  },
  "nbformat": 4,
  "nbformat_minor": 5
}