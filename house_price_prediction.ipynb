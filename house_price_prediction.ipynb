{
  "nbformat": 4,
  "nbformat_minor": 0,
  "metadata": {
    "colab": {
      "provenance": [],
      "authorship_tag": "ABX9TyPPB17KXDdsQv7StPZPLTFU",
      "include_colab_link": true
    },
    "kernelspec": {
      "name": "python3",
      "display_name": "Python 3"
    },
    "language_info": {
      "name": "python"
    }
  },
  "cells": [
    {
      "cell_type": "markdown",
      "metadata": {
        "id": "view-in-github",
        "colab_type": "text"
      },
      "source": [
        "<a href=\"https://colab.research.google.com/github/rxi-prakharvrm/Machine-Learning/blob/main/house_price_prediction.ipynb\" target=\"_parent\"><img src=\"https://colab.research.google.com/assets/colab-badge.svg\" alt=\"Open In Colab\"/></a>"
      ]
    },
    {
      "cell_type": "code",
      "execution_count": 1,
      "metadata": {
        "id": "Is0odylHEeAU"
      },
      "outputs": [],
      "source": [
        "import pandas as pd\n",
        "import numpy as np"
      ]
    },
    {
      "cell_type": "code",
      "source": [
        "df = pd.read_csv(\"Housing.csv\")"
      ],
      "metadata": {
        "id": "r2kZCvSXE8yk"
      },
      "execution_count": 78,
      "outputs": []
    },
    {
      "cell_type": "code",
      "source": [
        "df.head()"
      ],
      "metadata": {
        "id": "0oQfFatXFBJg"
      },
      "execution_count": null,
      "outputs": []
    },
    {
      "cell_type": "code",
      "source": [
        "df.info()"
      ],
      "metadata": {
        "id": "l9ZIPy0MICwX"
      },
      "execution_count": null,
      "outputs": []
    },
    {
      "cell_type": "code",
      "source": [
        "# Drop all the training examples which contains the value NaN or null\n",
        "df.dropna(inplace=True)"
      ],
      "metadata": {
        "id": "nc1_d70QJApw"
      },
      "execution_count": 81,
      "outputs": []
    },
    {
      "cell_type": "code",
      "source": [
        "from sklearn.model_selection import train_test_split\n",
        "\n",
        "X = df.drop(['price'], axis=1)\n",
        "y = df['price']"
      ],
      "metadata": {
        "id": "FEOA5ehjK_t-"
      },
      "execution_count": 82,
      "outputs": []
    },
    {
      "cell_type": "code",
      "source": [
        "X_train, X_test, y_train, y_test = train_test_split(X, y, test_size=0.2)\n",
        "\n",
        "X_train = X_train.join(pd.get_dummies(X_train.furnishingstatus)).drop(['furnishingstatus'], axis=1)\n",
        "\n",
        "X_train['mainroad'] = X_train['mainroad'].apply(lambda x: 1 if x == 'yes' else 0)\n",
        "X_train['guestroom'] = X_train['guestroom'].apply(lambda x: 1 if x == 'yes' else 0)\n",
        "X_train['basement'] = X_train['basement'].apply(lambda x: 1 if x == 'yes' else 0)\n",
        "X_train['hotwaterheating'] = X_train['hotwaterheating'].apply(lambda x: 1 if x == 'yes' else 0)\n",
        "X_train['airconditioning'] = X_train['airconditioning'].apply(lambda x: 1 if x == 'yes' else 0)\n",
        "X_train['prefarea'] = X_train['prefarea'].apply(lambda x: 1 if x == 'yes' else 0)"
      ],
      "metadata": {
        "id": "E0rniJk3L-EV"
      },
      "execution_count": 144,
      "outputs": []
    },
    {
      "cell_type": "code",
      "source": [
        "X_train.head()"
      ],
      "metadata": {
        "id": "M9eXYQ52V1_a"
      },
      "execution_count": null,
      "outputs": []
    },
    {
      "cell_type": "code",
      "source": [
        "train_data = X_train.join(y_train)"
      ],
      "metadata": {
        "id": "RXtC-d8mNL41"
      },
      "execution_count": 146,
      "outputs": []
    },
    {
      "cell_type": "code",
      "source": [
        "train_data.head()"
      ],
      "metadata": {
        "id": "kSWtkSOZNYKG"
      },
      "execution_count": null,
      "outputs": []
    },
    {
      "cell_type": "code",
      "source": [
        "train_data.hist()"
      ],
      "metadata": {
        "id": "XdOUhht8N3_2"
      },
      "execution_count": null,
      "outputs": []
    },
    {
      "cell_type": "code",
      "source": [
        "import matplotlib.pyplot as plt\n",
        "import seaborn as sns\n",
        "plt.figure(figsize=(15, 8))\n",
        "sns.heatmap(train_data.corr(), annot=True, cmap='YlGnBu')"
      ],
      "metadata": {
        "id": "mjHYyGAYOfnt"
      },
      "execution_count": null,
      "outputs": []
    },
    {
      "cell_type": "code",
      "source": [
        "# Feature engineering"
      ],
      "metadata": {
        "id": "53BxZKktpvNC"
      },
      "execution_count": 151,
      "outputs": []
    },
    {
      "cell_type": "code",
      "source": [
        "from sklearn.linear_model import LinearRegression\n",
        "\n",
        "X_train, y_train = train_data.drop(['price'], axis=1), train_data['price']\n",
        "\n",
        "reg = LinearRegression()\n",
        "reg.fit(X_train, y_train)"
      ],
      "metadata": {
        "id": "QQQMzRDzwYaG"
      },
      "execution_count": null,
      "outputs": []
    },
    {
      "cell_type": "code",
      "source": [
        "X_test = X_test.join(pd.get_dummies(X_test.furnishingstatus)).drop(['furnishingstatus'], axis=1)\n",
        "\n",
        "X_test['mainroad'] = X_test['mainroad'].apply(lambda x: 1 if x == 'yes' else 0)\n",
        "X_test['guestroom'] = X_test['guestroom'].apply(lambda x: 1 if x == 'yes' else 0)\n",
        "X_test['basement'] = X_test['basement'].apply(lambda x: 1 if x == 'yes' else 0)\n",
        "X_test['hotwaterheating'] = X_test['hotwaterheating'].apply(lambda x: 1 if x == 'yes' else 0)\n",
        "X_test['airconditioning'] = X_test['airconditioning'].apply(lambda x: 1 if x == 'yes' else 0)\n",
        "X_test['prefarea'] = X_test['prefarea'].apply(lambda x: 1 if x == 'yes' else 0)\n",
        "\n",
        "test_data = X_test.join(y_test)"
      ],
      "metadata": {
        "id": "1LWeEAiBw9kq"
      },
      "execution_count": 153,
      "outputs": []
    },
    {
      "cell_type": "code",
      "source": [
        "reg.score(X_test, y_test)"
      ],
      "metadata": {
        "id": "k302Xx1lzDjt"
      },
      "execution_count": null,
      "outputs": []
    },
    {
      "cell_type": "code",
      "source": [],
      "metadata": {
        "id": "Jv5l87AlzFfR"
      },
      "execution_count": null,
      "outputs": []
    }
  ]
}